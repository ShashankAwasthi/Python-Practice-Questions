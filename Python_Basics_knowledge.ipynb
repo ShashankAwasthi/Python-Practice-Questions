{
 "cells": [
  {
   "cell_type": "markdown",
   "id": "75a603ce",
   "metadata": {},
   "source": [
    "# Hackerrank Questions"
   ]
  },
  {
   "cell_type": "code",
   "execution_count": 15,
   "id": "32051c0b",
   "metadata": {},
   "outputs": [
    {
     "name": "stdout",
     "output_type": "stream",
     "text": [
      "1\n",
      "2\n"
     ]
    }
   ],
   "source": [
    "# How to input\n",
    "if __name__ == '__main__':\n",
    "    a = int(input())\n",
    "    b = int(input())"
   ]
  },
  {
   "cell_type": "code",
   "execution_count": 3,
   "id": "66132375",
   "metadata": {},
   "outputs": [
    {
     "data": {
      "text/plain": [
       "'Spam Spam Spam Spam '"
      ]
     },
     "execution_count": 3,
     "metadata": {},
     "output_type": "execute_result"
    }
   ],
   "source": [
    "# repeating a string n times\n",
    "spam_amount =4\n",
    "viking_song = \"Spam \" * spam_amount\n",
    "viking_song"
   ]
  },
  {
   "cell_type": "markdown",
   "id": "262fe4ad",
   "metadata": {},
   "source": [
    "### Arithmetic operators"
   ]
  },
  {
   "cell_type": "markdown",
   "id": "501b4094",
   "metadata": {},
   "source": [
    "a / b\tTrue division\tQuotient of a and b\n",
    "\n",
    "a // b\tFloor division\tQuotient of a and b, removing fractional parts\n",
    "\n",
    "a % b\tModulus\tInteger remainder after division of a by b\n",
    "\n",
    "a ** b\tExponentiation\ta raised to the power of b"
   ]
  },
  {
   "cell_type": "code",
   "execution_count": null,
   "id": "68a7865a",
   "metadata": {},
   "outputs": [],
   "source": []
  },
  {
   "cell_type": "code",
   "execution_count": 5,
   "id": "6b70a0fc",
   "metadata": {},
   "outputs": [
    {
     "name": "stdout",
     "output_type": "stream",
     "text": [
      "12"
     ]
    }
   ],
   "source": [
    "#print without newline  use end\n",
    "n=2\n",
    "for i in range(1,n+1):\n",
    "        print(i, end =\"\")"
   ]
  },
  {
   "cell_type": "code",
   "execution_count": 16,
   "id": "5718e7ba",
   "metadata": {},
   "outputs": [],
   "source": [
    "tmp = a\n",
    "a = b\n",
    "b = tmp\n",
    "\n",
    "#If you've read lots of Python code, you might have seen the following trick to swap two variables in one line:\n",
    "a=[1,2,3]\n",
    "b=[5,6,7]\n",
    "a, b = b, a"
   ]
  },
  {
   "cell_type": "code",
   "execution_count": 6,
   "id": "587a2ce3",
   "metadata": {},
   "outputs": [
    {
     "name": "stdout",
     "output_type": "stream",
     "text": [
      "Help on built-in function print in module builtins:\n",
      "\n",
      "print(...)\n",
      "    print(value, ..., sep=' ', end='\\n', file=sys.stdout, flush=False)\n",
      "    \n",
      "    Prints the values to a stream, or to sys.stdout by default.\n",
      "    Optional keyword arguments:\n",
      "    file:  a file-like object (stream); defaults to the current sys.stdout.\n",
      "    sep:   string inserted between values, default a space.\n",
      "    end:   string appended after the last value, default a newline.\n",
      "    flush: whether to forcibly flush the stream.\n",
      "\n"
     ]
    }
   ],
   "source": [
    "#get info about a function\n",
    "help(print)"
   ]
  },
  {
   "cell_type": "code",
   "execution_count": null,
   "id": "5d6aab88",
   "metadata": {},
   "outputs": [],
   "source": [
    "#defining a fn with docstring\n",
    "\n",
    "def least_difference(a, b, c):\n",
    "    \"\"\"Return the smallest difference between any two numbers\n",
    "    among a, b and c.\n",
    "    \n",
    "    >>> least_difference(1, 5, -5)\n",
    "    4\n",
    "    \"\"\"\n",
    "    diff1 = abs(a - b)\n",
    "    diff2 = abs(b - c)\n",
    "    diff3 = abs(a - c)\n",
    "    return min(diff1, diff2, diff3)"
   ]
  },
  {
   "cell_type": "code",
   "execution_count": 7,
   "id": "a50f10d0",
   "metadata": {},
   "outputs": [
    {
     "name": "stdout",
     "output_type": "stream",
     "text": [
      "1 < 2 < 3\n"
     ]
    }
   ],
   "source": [
    "#print with seperators\n",
    "print(1, 2, 3, sep=' < ')"
   ]
  },
  {
   "cell_type": "code",
   "execution_count": null,
   "id": "8f4c0f3b",
   "metadata": {},
   "outputs": [],
   "source": [
    "#Functions that operate on other functions are called \"higher-order functions.\n",
    "\n",
    "def mult_by_five(x):\n",
    "    return 5 * x\n",
    "\n",
    "def call(fn, arg):\n",
    "    \"\"\"Call fn on arg\"\"\"\n",
    "    return fn(arg)\n",
    "\n",
    "def squared_call(fn, arg):\n",
    "    \"\"\"Call fn on the result of calling fn on arg\"\"\"\n",
    "    return fn(fn(arg))\n",
    "\n",
    "print(\n",
    "    call(mult_by_five, 1),\n",
    "    squared_call(mult_by_five, 1), \n",
    "    sep='\\n', # '\\n' is the newline character - it starts a new line\n",
    ")"
   ]
  },
  {
   "cell_type": "code",
   "execution_count": 8,
   "id": "a78ae91d",
   "metadata": {},
   "outputs": [
    {
     "data": {
      "text/plain": [
       "46800"
      ]
     },
     "execution_count": 8,
     "metadata": {},
     "output_type": "execute_result"
    }
   ],
   "source": [
    "#round using -ve ndigits\n",
    "round(46776, -2)"
   ]
  },
  {
   "cell_type": "code",
   "execution_count": null,
   "id": "b360c47b",
   "metadata": {},
   "outputs": [],
   "source": [
    "#optionally takes a second argument If no second argument is provided, it should assume 3 friends\n",
    "def to_smash(total_candies, n_friends=3):\n",
    "    return total_candies % n_friends"
   ]
  },
  {
   "cell_type": "code",
   "execution_count": 19,
   "id": "6fa78e3f",
   "metadata": {},
   "outputs": [
    {
     "data": {
      "text/plain": [
       "True"
      ]
     },
     "execution_count": 19,
     "metadata": {},
     "output_type": "execute_result"
    }
   ],
   "source": [
    "#tricky bool operations\n",
    "3.0 == 3"
   ]
  },
  {
   "cell_type": "code",
   "execution_count": 20,
   "id": "0165135c",
   "metadata": {},
   "outputs": [
    {
     "data": {
      "text/plain": [
       "False"
      ]
     },
     "execution_count": 20,
     "metadata": {},
     "output_type": "execute_result"
    }
   ],
   "source": [
    "'3' == 3"
   ]
  },
  {
   "cell_type": "code",
   "execution_count": 12,
   "id": "61a42adb",
   "metadata": {},
   "outputs": [
    {
     "ename": "NameError",
     "evalue": "name 'have_umbrella' is not defined",
     "output_type": "error",
     "traceback": [
      "\u001b[1;31m---------------------------------------------------------------------------\u001b[0m",
      "\u001b[1;31mNameError\u001b[0m                                 Traceback (most recent call last)",
      "Input \u001b[1;32mIn [12]\u001b[0m, in \u001b[0;36m<cell line: 2>\u001b[1;34m()\u001b[0m\n\u001b[0;32m      1\u001b[0m \u001b[38;5;66;03m# and is evaluated before or\u001b[39;00m\n\u001b[1;32m----> 2\u001b[0m \u001b[43mhave_umbrella\u001b[49m \u001b[38;5;129;01mor\u001b[39;00m rain_level \u001b[38;5;241m<\u001b[39m \u001b[38;5;241m5\u001b[39m \u001b[38;5;129;01mand\u001b[39;00m have_hood \u001b[38;5;129;01mor\u001b[39;00m \u001b[38;5;129;01mnot\u001b[39;00m rain_level \u001b[38;5;241m>\u001b[39m \u001b[38;5;241m0\u001b[39m \u001b[38;5;129;01mand\u001b[39;00m is_workday\n",
      "\u001b[1;31mNameError\u001b[0m: name 'have_umbrella' is not defined"
     ]
    }
   ],
   "source": [
    "# and is evaluated before or\n",
    "have_umbrella or rain_level < 5 and have_hood or not rain_level > 0 and is_workday"
   ]
  },
  {
   "cell_type": "code",
   "execution_count": 13,
   "id": "5c5f287d",
   "metadata": {},
   "outputs": [
    {
     "name": "stdout",
     "output_type": "stream",
     "text": [
      "True\n"
     ]
    }
   ],
   "source": [
    "print(bool(\"asf\")) # all strings are treated as true, except the empty string \"\""
   ]
  },
  {
   "cell_type": "code",
   "execution_count": null,
   "id": "9930db1d",
   "metadata": {},
   "outputs": [],
   "source": [
    "print(\"Splitting\", total_candies, \"candy\" if total_candies == 1 else \"candies\")"
   ]
  },
  
  {
   "cell_type": "code",
   "execution_count": null,
   "id": "12b7971d",
   "metadata": {},
   "outputs": [],
   "source": [
    "#exactly_one_topping\n",
    "return (int(ketchup) + int(mustard) + int(onion)) == 1"
   ]
  },
  {
   "cell_type": "code",
   "execution_count": null,
   "id": "7193c45c",
   "metadata": {},
   "outputs": [],
   "source": [
    "return (ketchup + mustard + onion) == 1"
   ]
  },
  {
   "cell_type": "code",
   "execution_count": null,
   "id": "85be6018",
   "metadata": {},
   "outputs": [],
   "source": [
    "return not (ketchup or mustard or onion) "
   ]
  },
  {
   "cell_type": "code",
   "execution_count": null,
   "id": "96c036c8",
   "metadata": {},
   "outputs": [],
   "source": []
  },
  {
   "cell_type": "code",
   "execution_count": null,
   "id": "0a320927",
   "metadata": {},
   "outputs": [],
   "source": [
    "# end of list\n",
    "planets[-1]"
   ]
  },
  {
   "cell_type": "code",
   "execution_count": null,
   "id": "b966a5bb",
   "metadata": {},
   "outputs": [],
   "source": [
    "# All the planets except the first and last\n",
    "planets[1:-1]"
   ]
  },
  {
   "cell_type": "code",
   "execution_count": null,
   "id": "f6778be7",
   "metadata": {},
   "outputs": [],
   "source": [
    "# The planets sorted in alphabetical order\n",
    "sorted(planets)"
   ]
  },
  {
   "cell_type": "code",
   "execution_count": null,
   "id": "d70bf533",
   "metadata": {},
   "outputs": [],
   "source": [
    "# objects carry some things around with them. You access that stuff using Python's dot syntax.\n",
    "# A function attached to an object is called a method.\n",
    "x.bit_length\n",
    "x.bit_length()"
   ]
  },
  {
   "cell_type": "code",
   "execution_count": null,
   "id": "b18f8057",
   "metadata": {},
   "outputs": [],
   "source": [
    "planets.pop()\n",
    "planets.append(e)\n",
    "planets.index('Earth')"
   ]
  },
  {
   "cell_type": "code",
   "execution_count": null,
   "id": "973978e5",
   "metadata": {},
   "outputs": [],
   "source": [
    "t = 1, 2, 3"
   ]
  },
  {
   "cell_type": "code",
   "execution_count": null,
   "id": "ecc9673f",
   "metadata": {},
   "outputs": [],
   "source": [
    "#reverse a list\n",
    "racers[::-1]"
   ]
  },
  {
   "cell_type": "code",
   "execution_count": null,
   "id": "0ff22411",
   "metadata": {},
   "outputs": [],
   "source": [
    "#swapping \n",
    "x[0], x[-1] = x[-1], x[0] "
   ]
  },
  {
   "cell_type": "code",
   "execution_count": null,
   "id": "dd513bbc",
   "metadata": {},
   "outputs": [],
   "source": [
    "order = arrivals.index(name)\n",
    "return order >= len(arrivals) / 2 and order != len(arrivals) - 1"
   ]
  },
  {
   "cell_type": "code",
   "execution_count": null,
   "id": "5cee3f02",
   "metadata": {},
   "outputs": [],
   "source": [
    "[n**2 for n in range(10)]\n",
    "[planet for planet in planets if len(planet) < 6]"
   ]
  },
  {
   "cell_type": "code",
   "execution_count": null,
   "id": "61da4fc6",
   "metadata": {},
   "outputs": [],
   "source": [
    "len([num for num in nums if num < 0])\n",
    "sum([num < 0 for num in nums])"
   ]
  },
  {
   "cell_type": "code",
   "execution_count": null,
   "id": "8d7eefdf",
   "metadata": {},
   "outputs": [],
   "source": [
    "any([num % 7 == 0 for num in nums])"
   ]
  },
  {
   "cell_type": "code",
   "execution_count": null,
   "id": "369e1dab",
   "metadata": {},
   "outputs": [],
   "source": [
    "for i in range(len(meals)-1):\n",
    "        if meals[i] == meals[i+1]:\n",
    "            return True\n",
    "    return False"
   ]
  },
  {
   "cell_type": "code",
   "execution_count": null,
   "id": "6c3e86dd",
   "metadata": {},
   "outputs": [],
   "source": [
    "print(\"hello\", end='')"
   ]
  },
  {
   "cell_type": "code",
   "execution_count": null,
   "id": "5b9ec465",
   "metadata": {},
   "outputs": [],
   "source": [
    "# strings are immutable so .append or assigning doesn't work "
   ]
  },
  {
   "cell_type": "code",
   "execution_count": null,
   "id": "0e6b0d54",
   "metadata": {},
   "outputs": [],
   "source": [
    "datestr = '1956-01-31'\n",
    "year, month, day = datestr.split('-')"
   ]
  },
  {
   "cell_type": "code",
   "execution_count": null,
   "id": "49701ada",
   "metadata": {},
   "outputs": [],
   "source": [
    "'/'.join([month, day, year])"
   ]
  },
  {
   "cell_type": "code",
   "execution_count": null,
   "id": "a320d89a",
   "metadata": {},
   "outputs": [],
   "source": [
    "\"{}, you'll always be the {}th planet to me.\".format(planet, position)"
   ]
  },
  {
   "cell_type": "code",
   "execution_count": null,
   "id": "6b210292",
   "metadata": {},
   "outputs": [],
   "source": [
    "\"{} weighs about {:.2} kilograms ({:.3%} of Earth's mass). It is home to {:,} Plutonians.\".format(\n",
    "    planet, pluto_mass, pluto_mass / earth_mass, population,\n",
    ")"
   ]
  },
  {
   "cell_type": "code",
   "execution_count": null,
   "id": "0e36858e",
   "metadata": {},
   "outputs": [],
   "source": [
    "#dictionary comprehension\n",
    "{planet: planet[0] for planet in planets}"
   ]
  },
  {
   "cell_type": "code",
   "execution_count": null,
   "id": "147e4416",
   "metadata": {},
   "outputs": [],
   "source": [
    "dict.keys() and dict.values()   dict.items() \n",
    "for planet, initial in planet_to_initial.items():"
   ]
  },
  {
   "cell_type": "code",
   "execution_count": null,
   "id": "895e764c",
   "metadata": {},
   "outputs": [],
   "source": [
    "zip_code.isdigit()"
   ]
  },
  {
   "cell_type": "code",
   "execution_count": null,
   "id": "49752e02",
   "metadata": {},
   "outputs": [],
   "source": [
    "Iterate through the indices (i) and elements (doc) of documents\n",
    "for i, doc in enumerate(doc_list):"
   ]
  },
  {
   "cell_type": "code",
   "execution_count": null,
   "id": "69013496",
   "metadata": {},
   "outputs": [],
   "source": [
    "[token.rstrip('.,').lower() for token in tokens]"
   ]
  },
  {
   "cell_type": "code",
   "execution_count": 14,
   "id": "8af2955d",
   "metadata": {},
   "outputs": [
    {
     "name": "stdout",
     "output_type": "stream",
     "text": [
      "['__doc__', '__loader__', '__name__', '__package__', '__spec__', 'acos', 'acosh', 'asin', 'asinh', 'atan', 'atan2', 'atanh', 'ceil', 'comb', 'copysign', 'cos', 'cosh', 'degrees', 'dist', 'e', 'erf', 'erfc', 'exp', 'expm1', 'fabs', 'factorial', 'floor', 'fmod', 'frexp', 'fsum', 'gamma', 'gcd', 'hypot', 'inf', 'isclose', 'isfinite', 'isinf', 'isnan', 'isqrt', 'lcm', 'ldexp', 'lgamma', 'log', 'log10', 'log1p', 'log2', 'modf', 'nan', 'nextafter', 'perm', 'pi', 'pow', 'prod', 'radians', 'remainder', 'sin', 'sinh', 'sqrt', 'tan', 'tanh', 'tau', 'trunc', 'ulp']\n"
     ]
    }
   ],
   "source": [
    "#check all functins of a module\n",
    "import math\n",
    "print(dir(math))"
   ]
  },
  {
   "cell_type": "code",
   "execution_count": null,
   "id": "590661fc",
   "metadata": {},
   "outputs": [],
   "source": [
    "from math import *\n",
    "#then we can call functins directly"
   ]
  },
  {
   "cell_type": "code",
   "execution_count": null,
   "id": "16cddcf0",
   "metadata": {},
   "outputs": [],
   "source": [
    "from math import *\n",
    "from numpy import *\n",
    "print(pi, log(32, 2))\n",
    "#cause error as both have log fn and sytem confuses"
   ]
  },
  {
   "cell_type": "code",
   "execution_count": null,
   "id": "737c9632",
   "metadata": {},
   "outputs": [],
   "source": [
    "[3, 4, 1, 2, 2, 1] + 10\n",
    "#error  operator overloading"
   ]
  },
  {
   "cell_type": "code",
   "execution_count": null,
   "id": "dce6b6d5",
   "metadata": {},
   "outputs": [],
   "source": [
    "# Format those values into strings beginning with dollar sign\n",
    "    new_labels = ['${}'.format(int(amt)) for amt in ticks]"
   ]
  },
  {
   "cell_type": "code",
   "execution_count": null,
   "id": "872f4736",
   "metadata": {},
   "outputs": [],
   "source": []
  },
  {
   "cell_type": "code",
   "execution_count": null,
   "id": "9971f3c9",
   "metadata": {},
   "outputs": [],
   "source": []
  },
  {
   "cell_type": "code",
   "execution_count": null,
   "id": "f5a3bef2",
   "metadata": {},
   "outputs": [],
   "source": []
  }
 ],
 "metadata": {
  "kernelspec": {
   "display_name": "Python 3 (ipykernel)",
   "language": "python",
   "name": "python3"
  },
  "language_info": {
   "codemirror_mode": {
    "name": "ipython",
    "version": 3
   },
   "file_extension": ".py",
   "mimetype": "text/x-python",
   "name": "python",
   "nbconvert_exporter": "python",
   "pygments_lexer": "ipython3",
   "version": "3.9.7"
  }
 },
 "nbformat": 4,
 "nbformat_minor": 5
}
